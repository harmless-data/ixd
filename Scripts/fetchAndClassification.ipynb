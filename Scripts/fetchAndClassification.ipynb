{
 "cells": [
  {
   "cell_type": "code",
   "execution_count": 56,
   "id": "6bc87fa8",
   "metadata": {},
   "outputs": [],
   "source": [
    "import requests\n",
    "import random\n",
    "import pandas as pd\n",
    "import openfoodfacts as off\n",
    "from itertools import takewhile\n",
    "from IPython.display import display"
   ]
  },
  {
   "cell_type": "code",
   "execution_count": 61,
   "id": "362b603e",
   "metadata": {},
   "outputs": [],
   "source": [
    "def _baseUrl(api_version):\n",
    "    return f'https://world.openfoodfacts.org/api/v{api_version}'\n",
    "\n",
    "def getProduct(ean : str,api_version=2):\n",
    "    \n",
    "    url = f'{_baseUrl(api_version)}/product/{ean}.json'\n",
    "    \n",
    "    r = requests.get(url)\n",
    "    \n",
    "    return r.json() if r.status_code == 200 else {}\n",
    "\n",
    "def searchForProduct(\n",
    "    additives_tags=None,\n",
    "    allergens_tags=None,\n",
    "    brands_tags=None,\n",
    "    categories_tags=None,\n",
    "    countries_tags_en=None,\n",
    "    emb_codes_tags=None,\n",
    "    labels_tags=None,\n",
    "    manufacturing_places_tags=None,\n",
    "    nutrition_grades_tags=None,\n",
    "    origins_tags=None,\n",
    "    packaging_tags_de=None,\n",
    "    purchase_places_tags=None,\n",
    "    states_tags=None,\n",
    "    stores_tags=None,\n",
    "    traces_tags=None,\n",
    "    fields=None,\n",
    "    sort_by=None,\n",
    "    ):\n",
    "    pass\n",
    "\n",
    "def generateRandomShoppingList(min_len=1,max_len=100):\n",
    "    # TODO: replace magic number at generator cutoff\n",
    "    eans = [product['code'] for product in limited_generator(off.products.get_all_by_country('de'),max_len*3) if len(product['code'])==13]\n",
    "    return random.sample(eans,random.randint(min_len,max_len))\n",
    "\n",
    "\n",
    "def limited_generator(gen, limit):\n",
    "    for i, item in enumerate(gen):\n",
    "        if i >= limit:\n",
    "            break\n",
    "        yield item\n",
    "\n",
    "def evaluatueShoppingList(shopping_list,active_filters):\n",
    "    pass"
   ]
  },
  {
   "cell_type": "code",
   "execution_count": 63,
   "id": "147837a5",
   "metadata": {},
   "outputs": [
    {
     "name": "stdout",
     "output_type": "stream",
     "text": [
      "['1230000068017', '0785614360763', '4063367399923', '5410228293279', '4337185629501', '2129091005652', '2129091005652', '5411681014005', '0785614360763', '4337185628009', '4002208036214', '2150368005853', '2164861008952', '5411681014005']\n"
     ]
    }
   ],
   "source": [
    "if __name__ == '__main__':\n",
    "    print(generateRandomShoppingList(max_len=20))"
   ]
  },
  {
   "cell_type": "code",
   "execution_count": null,
   "id": "8230936f",
   "metadata": {},
   "outputs": [],
   "source": []
  },
  {
   "cell_type": "code",
   "execution_count": null,
   "id": "a70653b1",
   "metadata": {},
   "outputs": [],
   "source": []
  }
 ],
 "metadata": {
  "kernelspec": {
   "display_name": "Python 3 (ipykernel)",
   "language": "python",
   "name": "python3"
  },
  "language_info": {
   "codemirror_mode": {
    "name": "ipython",
    "version": 3
   },
   "file_extension": ".py",
   "mimetype": "text/x-python",
   "name": "python",
   "nbconvert_exporter": "python",
   "pygments_lexer": "ipython3",
   "version": "3.10.8"
  }
 },
 "nbformat": 4,
 "nbformat_minor": 5
}
