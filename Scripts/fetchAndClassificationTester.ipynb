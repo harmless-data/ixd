{
 "cells": [
  {
   "cell_type": "markdown",
   "id": "89d9301b",
   "metadata": {},
   "source": [
    "# Fetch and Classification Testing Script"
   ]
  },
  {
   "cell_type": "markdown",
   "id": "8879cd1e",
   "metadata": {},
   "source": [
    "This Jupyter Notebook contains Testing Functionality for the Coding IxD:Consumptution Project"
   ]
  },
  {
   "cell_type": "markdown",
   "id": "6878637a",
   "metadata": {},
   "source": [
    "## Imports"
   ]
  },
  {
   "cell_type": "code",
   "execution_count": 1,
   "id": "6bc87fa8",
   "metadata": {},
   "outputs": [],
   "source": [
    "import requests\n",
    "import random\n",
    "import json\n",
    "import uuid\n",
    "import pandas as pd\n",
    "from time import sleep\n",
    "import openfoodfacts as off\n",
    "from itertools import takewhile\n",
    "from IPython.display import display,JSON,HTML\n",
    "from pandas.io.json import json_normalize\n",
    "from enum import Enum\n",
    "from urllib.request import urlopen"
   ]
  },
  {
   "cell_type": "markdown",
   "id": "6f8ab7a6",
   "metadata": {},
   "source": [
    "## Functions"
   ]
  },
  {
   "cell_type": "code",
   "execution_count": 42,
   "id": "362b603e",
   "metadata": {},
   "outputs": [],
   "source": [
    "def _baseUrl(api_version):\n",
    "    return f'https://world.openfoodfacts.org/api/v{api_version}'\n",
    "\n",
    "def getProduct(ean : str,api_version=2):\n",
    "    \n",
    "    url = f'{_baseUrl(api_version)}/product/{ean}.json'\n",
    "    \n",
    "    r = requests.get(url)\n",
    "    \n",
    "    return r.json() if r.status_code == 200 else {}\n",
    "\n",
    "def generateRandomShoppingList(min_len=1,max_len=100):\n",
    "    # TODO: replace magic number at generator cutoff\n",
    "    eans = [product['code'] for product in limited_generator(off.products.get_all_by_country('de'),max_len*3) if len(product['code'])==13]\n",
    "    return random.sample(eans,random.randint(min_len,max_len))\n",
    "\n",
    "def limited_generator(gen, limit):\n",
    "    for i, item in enumerate(gen):\n",
    "        if i >= limit:\n",
    "            break\n",
    "        yield item\n",
    "\n",
    "def post_ean_list(eans):\n",
    "    url = \"http://127.0.0.1:8000/fetch/LIST/\"\n",
    "    headers = {'content-type': 'application/json'}\n",
    "    payload = json.dumps({\"eans\": eans})\n",
    "    response = requests.post(url, data=payload, headers=headers)\n",
    "    \n",
    "    if response.status_code == 200:\n",
    "        return response.text\n",
    "    else:\n",
    "        return \"Request failed with status code: \" + str(response.status_code)"
   ]
  },
  {
   "cell_type": "markdown",
   "id": "d0fc1de0",
   "metadata": {},
   "source": [
    "### Filters"
   ]
  },
  {
   "cell_type": "code",
   "execution_count": 117,
   "id": "3c60a674",
   "metadata": {},
   "outputs": [],
   "source": [
    "class NutriScore(Enum):\n",
    "    A = 'A'\n",
    "    B = 'B'\n",
    "    C = 'C'\n",
    "    D = 'D'\n",
    "    E = 'E'\n",
    "    \n",
    "def contains_ingredients_analysis_tag(json,tag : str):\n",
    "    # TODO: change systematic to incoprorate 'non-x' substring parsing\n",
    "    if 'ingredients_analysis_tags' in json['product'].keys():\n",
    "        for _tag in json['product']['ingredients_analysis_tags']:\n",
    "            if tag in _tag:\n",
    "                return True\n",
    "            return False\n",
    "    \n",
    "def filter_palm_oil_free(json) -> bool:\n",
    "    # TODO: add differentiating tags\n",
    "    return contains_ingredients_analysis_tag(json,'palm-oil-free')\n",
    "            \n",
    "def filter_fair_trade(json) -> bool:\n",
    "    # TODO: add multivaried parsing\n",
    "    return 'Fairtrade International' in json['product']['labels'] if 'labels' in json['product'].keys() else None\n",
    "\n",
    "def filter_bio(json) -> bool:\n",
    "    # TODO: add multivaried parsing\n",
    "    return 'Bio' in json['product']['labels'] if 'labels' in json['product'].keys() else None\n",
    "\n",
    "def filter_vegan(json) -> bool:\n",
    "    return contains_ingredients_analysis_tag(json,'vegan')\n",
    "\n",
    "def filter_vegetarian(json) -> bool:\n",
    "    return contains_ingredients_analysis_tag(json,'vegetarian')\n",
    "\n",
    "def filter_low_food_processing(json) -> bool:\n",
    "    pass\n",
    "\n",
    "def filter_nutri_score(json) -> NutriScore:\n",
    "    return json['product']['nutriscore_grade'] if 'nutriscore_grade' in json['product'].keys() else None\n",
    "\n",
    "def filter_packaging(json):\n",
    "    return json['product']['packaging'] if 'packaging' in json['product'].keys() else None\n",
    "\n",
    "\n",
    "def filter_transport(json):\n",
    "    pass\n",
    "\n",
    "def filter_full_filtering(json):\n",
    "    return {\n",
    "        'palm-oil-free' : filter_palm_oil_free(json),\n",
    "        'fair-trade' : filter_fair_trade(json),\n",
    "        'bio' : filter_bio(json),\n",
    "        'vegan' : filter_vegan(json), \n",
    "        'vegetarian' : filter_vegetarian(json),\n",
    "        'low-food-processing' : filter_low_food_processing(json),\n",
    "        'nutri-score' : filter_nutri_score(json),\n",
    "        'packaging' : filter_packaging(json),\n",
    "        'transport' : filter_transport(json),\n",
    "     }\n",
    "\n",
    "def create_metric(eans):\n",
    "    \n",
    "    return_json = json.loads(post_ean_list(eans))\n",
    "    \n",
    "    keys = list(return_json.keys())\n",
    "        \n",
    "    return {\n",
    "        'palm-oil-free' : [filter_palm_oil_free(return_json[key]) for key in keys],\n",
    "        'fair-trade' : [filter_fair_trade(return_json[key]) for key in keys],\n",
    "        'bio' : [filter_bio(return_json[key]) for key in keys],\n",
    "        'vegan' : [filter_vegan(return_json[key]) for key in keys], \n",
    "        'vegetarian' : [filter_vegetarian(return_json[key]) for key in keys],\n",
    "        'low-food-processing' : [filter_low_food_processing(return_json[key]) for key in keys],\n",
    "        'nutri-score' : [filter_nutri_score(return_json[key]) for key in keys],\n",
    "        'packaging' :[filter_packaging(return_json[key]) for key in keys],\n",
    "        'transport' : [filter_transport(return_json[key]) for key in keys],\n",
    "    }\n",
    "    \n",
    "def metric_to_scale(metric_json):\n",
    "\n",
    "     return {\n",
    "        'palm-oil-free' : sum(metric_json['palm-oil-free']),\n",
    "        #'fair-trade' : [filter_fair_trade(return_json[key]) for key in keys],\n",
    "        #'bio' : [filter_bio(return_json[key]) for key in keys],\n",
    "        #'vegan' : [filter_vegan(return_json[key]) for key in keys], \n",
    "        #'vegetarian' : [filter_vegetarian(return_json[key]) for key in keys],\n",
    "        #'low-food-processing' : [filter_low_food_processing(return_json[key]) for key in keys],\n",
    "        #'nutri-score' : [filter_nutri_score(return_json[key]) for key in keys],\n",
    "        #'packaging' :[filter_packaging(return_json[key]) for key in keys],\n",
    "        #'transport' : [filter_transport(return_json[key]) for key in keys],\n",
    "    }"
   ]
  },
  {
   "cell_type": "markdown",
   "id": "17ff9329",
   "metadata": {},
   "source": [
    "## Driver Code"
   ]
  },
  {
   "cell_type": "code",
   "execution_count": 118,
   "id": "8bbfb928",
   "metadata": {},
   "outputs": [
    {
     "name": "stdout",
     "output_type": "stream",
     "text": [
      "running as Script\n"
     ]
    }
   ],
   "source": [
    "if __name__ == '__main__':\n",
    "    print('running as Script')"
   ]
  },
  {
   "cell_type": "markdown",
   "id": "972482fc",
   "metadata": {},
   "source": [
    "Test Single Endpoint"
   ]
  },
  {
   "cell_type": "code",
   "execution_count": 119,
   "id": "147837a5",
   "metadata": {},
   "outputs": [],
   "source": [
    "    # generate Random Shopping Trip\n",
    "    eans = generateRandomShoppingList(min_len=5,max_len=10)\n",
    "    # print(eans[0])\n",
    "    \n",
    "    # Test single EAN endpoint\n",
    "    # for ean in eans:\n",
    "    #    print(requests.get(f'http://127.0.0.1:8000/fetch/EAN/{ean}/').status_code)\n",
    "    \n"
   ]
  },
  {
   "cell_type": "markdown",
   "id": "670228d6",
   "metadata": {},
   "source": [
    "Test JSON Batch Enpoint"
   ]
  },
  {
   "cell_type": "code",
   "execution_count": 120,
   "id": "8230936f",
   "metadata": {},
   "outputs": [],
   "source": [
    "    # Test batch processing endpoint\n",
    "    # post_ean_list(eans)"
   ]
  },
  {
   "cell_type": "markdown",
   "id": "8cb8d025",
   "metadata": {},
   "source": [
    "Test Filters"
   ]
  },
  {
   "cell_type": "code",
   "execution_count": 121,
   "id": "b3a39f4d",
   "metadata": {},
   "outputs": [
    {
     "name": "stdout",
     "output_type": "stream",
     "text": [
      "{'palm-oil-free': [None, None, None, None, None, True], 'fair-trade': [False, None, None, None, None, False], 'bio': [False, None, None, None, None, False], 'vegan': [None, None, None, None, None, False], 'vegetarian': [None, None, None, None, None, False], 'low-food-processing': [None, None, None, None, None, None], 'nutri-score': [None, None, None, None, None, 'd'], 'packaging': ['1 Glasflasche', None, None, None, None, '1 glass jar, 1 plastic lid'], 'transport': [None, None, None, None, None, None]}\n"
     ]
    }
   ],
   "source": [
    "    # palmoil\n",
    "    # ean = 8412170028579\n",
    "    \n",
    "    # fairtrade\n",
    "    # ean = 8711327373105\n",
    "    \n",
    "    # bio\n",
    "    # ean = 3760020507350\n",
    "    # resp = urlopen(f'http://127.0.0.1:8000/fetch/EAN/{ean}/')\n",
    "    # return_json = json.loads(resp.read())  \n",
    "        \n",
    "    metric_json = create_metric(eans)\n",
    "    \n",
    "    print(metric_json)\n",
    "    "
   ]
  },
  {
   "cell_type": "code",
   "execution_count": null,
   "id": "a50145fc",
   "metadata": {},
   "outputs": [],
   "source": []
  },
  {
   "cell_type": "code",
   "execution_count": null,
   "id": "34084f76",
   "metadata": {},
   "outputs": [],
   "source": []
  },
  {
   "cell_type": "code",
   "execution_count": null,
   "id": "726d09ce",
   "metadata": {},
   "outputs": [],
   "source": []
  }
 ],
 "metadata": {
  "kernelspec": {
   "display_name": "Python 3 (ipykernel)",
   "language": "python",
   "name": "python3"
  },
  "language_info": {
   "codemirror_mode": {
    "name": "ipython",
    "version": 3
   },
   "file_extension": ".py",
   "mimetype": "text/x-python",
   "name": "python",
   "nbconvert_exporter": "python",
   "pygments_lexer": "ipython3",
   "version": "3.10.8"
  }
 },
 "nbformat": 4,
 "nbformat_minor": 5
}
