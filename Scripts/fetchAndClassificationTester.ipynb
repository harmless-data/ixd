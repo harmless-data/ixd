{
 "cells": [
  {
   "cell_type": "markdown",
   "id": "1ca17e95",
   "metadata": {},
   "source": [
    "# Fetch and Classification Testing Script"
   ]
  },
  {
   "cell_type": "markdown",
   "id": "6afa1eae",
   "metadata": {},
   "source": [
    "This Jupyter Notebook contains Testing Functionality for the Coding IxD:Consumptution Project"
   ]
  },
  {
   "cell_type": "markdown",
   "id": "b9fdd0cf",
   "metadata": {},
   "source": [
    "## Imports"
   ]
  },
  {
   "cell_type": "code",
   "execution_count": 53,
   "id": "6bc87fa8",
   "metadata": {},
   "outputs": [],
   "source": [
    "import requests\n",
    "import random\n",
    "import json\n",
    "import uuid\n",
    "import pandas as pd\n",
    "from time import sleep\n",
    "import openfoodfacts as off\n",
    "from itertools import takewhile\n",
    "from IPython.display import display,JSON,HTML\n",
    "from pandas.io.json import json_normalize"
   ]
  },
  {
   "cell_type": "markdown",
   "id": "2cbb36b7",
   "metadata": {},
   "source": [
    "## Functions"
   ]
  },
  {
   "cell_type": "code",
   "execution_count": 59,
   "id": "362b603e",
   "metadata": {},
   "outputs": [],
   "source": [
    "def _baseUrl(api_version):\n",
    "    return f'https://world.openfoodfacts.org/api/v{api_version}'\n",
    "\n",
    "def getProduct(ean : str,api_version=2):\n",
    "    \n",
    "    url = f'{_baseUrl(api_version)}/product/{ean}.json'\n",
    "    \n",
    "    r = requests.get(url)\n",
    "    \n",
    "    return r.json() if r.status_code == 200 else {}\n",
    "\n",
    "def generateRandomShoppingList(min_len=1,max_len=100):\n",
    "    # TODO: replace magic number at generator cutoff\n",
    "    eans = [product['code'] for product in limited_generator(off.products.get_all_by_country('de'),max_len*3) if len(product['code'])==13]\n",
    "    return random.sample(eans,random.randint(min_len,max_len))\n",
    "\n",
    "def limited_generator(gen, limit):\n",
    "    for i, item in enumerate(gen):\n",
    "        if i >= limit:\n",
    "            break\n",
    "        yield item\n",
    "\n",
    "def post_ean_list(eans):\n",
    "    url = \"http://127.0.0.1:8000/fetch/LIST/\"\n",
    "    headers = {'content-type': 'application/json'}\n",
    "    payload = json.dumps({\"eans\": eans})\n",
    "    response = requests.post(url, data=payload, headers=headers)\n",
    "    \n",
    "    if response.status_code == 200:\n",
    "        return response.text\n",
    "    else:\n",
    "        return \"Request failed with status code: \" + str(response.status_code)\n",
    "\n",
    "def json_to_collapsible_tree(json_data):\n",
    "    df = json_normalize(json_data)\n",
    "    display(df)\n",
    "\n",
    "class TreeView(object):\n",
    "    def __init__(self, json_data):\n",
    "        self.json_str = (json.dumps(json_data) if isinstance(json_data, (dict, list)) else json_data).replace(\">\", \"&gt;\").replace(\"<\", \"&lt;\")\n",
    "        self.uuid = str(uuid.uuid4())\n",
    "        \n",
    "    def _ipython_display_(self):\n",
    "        display.display_html('<div id=\"{}\" style=\"height: 300px; width:100%;\"></div>'.format(self.uuid), raw=True)\n",
    "        display.display_javascript(\"\"\"\n",
    "        require([\"https://rawgit.com/caldwell/renderjson/master/renderjson.js\"], () => document.getElementById('%s').appendChild(renderjson(%s)));\n",
    "        \"\"\" % (self.uuid, self.json_str), raw=True)"
   ]
  },
  {
   "cell_type": "markdown",
   "id": "8f25247c",
   "metadata": {},
   "source": [
    "## Driver Code"
   ]
  },
  {
   "cell_type": "code",
   "execution_count": 62,
   "id": "147837a5",
   "metadata": {},
   "outputs": [
    {
     "name": "stdout",
     "output_type": "stream",
     "text": [
      "200\n",
      "200\n",
      "200\n",
      "200\n",
      "200\n",
      "200\n",
      "200\n",
      "200\n",
      "200\n",
      "200\n",
      "200\n",
      "200\n",
      "200\n",
      "200\n",
      "200\n",
      "200\n",
      "200\n",
      "200\n",
      "200\n",
      "200\n",
      "200\n"
     ]
    },
    {
     "ename": "KeyboardInterrupt",
     "evalue": "",
     "output_type": "error",
     "traceback": [
      "\u001b[0;31m---------------------------------------------------------------------------\u001b[0m",
      "\u001b[0;31mKeyboardInterrupt\u001b[0m                         Traceback (most recent call last)",
      "Cell \u001b[0;32mIn[62], line 6\u001b[0m\n\u001b[1;32m      4\u001b[0m \u001b[38;5;28;01mfor\u001b[39;00m ean \u001b[38;5;129;01min\u001b[39;00m eans:\n\u001b[1;32m      5\u001b[0m     \u001b[38;5;28mprint\u001b[39m(requests\u001b[38;5;241m.\u001b[39mget(\u001b[38;5;124mf\u001b[39m\u001b[38;5;124m'\u001b[39m\u001b[38;5;124mhttp://127.0.0.1:8000/fetch/EAN/\u001b[39m\u001b[38;5;132;01m{\u001b[39;00mean\u001b[38;5;132;01m}\u001b[39;00m\u001b[38;5;124m/\u001b[39m\u001b[38;5;124m'\u001b[39m)\u001b[38;5;241m.\u001b[39mstatus_code)\n\u001b[0;32m----> 6\u001b[0m     \u001b[43msleep\u001b[49m\u001b[43m(\u001b[49m\u001b[38;5;241;43m1\u001b[39;49m\u001b[43m)\u001b[49m\n",
      "\u001b[0;31mKeyboardInterrupt\u001b[0m: "
     ]
    }
   ],
   "source": [
    "if __name__ == '__main__':\n",
    "    eans = generateRandomShoppingList(max_len=40)\n",
    "    \n",
    "    for ean in eans:\n",
    "        print(requests.get(f'http://127.0.0.1:8000/fetch/EAN/{ean}/').status_code)\n",
    "        sleep(1)"
   ]
  },
  {
   "cell_type": "code",
   "execution_count": null,
   "id": "8230936f",
   "metadata": {},
   "outputs": [],
   "source": []
  },
  {
   "cell_type": "code",
   "execution_count": null,
   "id": "a70653b1",
   "metadata": {},
   "outputs": [],
   "source": []
  }
 ],
 "metadata": {
  "kernelspec": {
   "display_name": "Python 3 (ipykernel)",
   "language": "python",
   "name": "python3"
  },
  "language_info": {
   "codemirror_mode": {
    "name": "ipython",
    "version": 3
   },
   "file_extension": ".py",
   "mimetype": "text/x-python",
   "name": "python",
   "nbconvert_exporter": "python",
   "pygments_lexer": "ipython3",
   "version": "3.10.8"
  }
 },
 "nbformat": 4,
 "nbformat_minor": 5
}
